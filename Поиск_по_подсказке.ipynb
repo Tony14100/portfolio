{
  "cells": [
    {
      "cell_type": "markdown",
      "metadata": {
        "id": "view-in-github",
        "colab_type": "text"
      },
      "source": [
        "<a href=\"https://colab.research.google.com/github/Tony14100/portfolio/blob/main/%D0%9F%D0%BE%D0%B8%D1%81%D0%BA_%D0%BF%D0%BE_%D0%BF%D0%BE%D0%B4%D1%81%D0%BA%D0%B0%D0%B7%D0%BA%D0%B5.ipynb\" target=\"_parent\"><img src=\"https://colab.research.google.com/assets/colab-badge.svg\" alt=\"Open In Colab\"/></a>"
      ]
    },
    {
      "cell_type": "markdown",
      "metadata": {
        "id": "084u8u0DpBlo"
      },
      "source": [
        "# Подсказка со стенограммой \"Аполлона-11\""
      ]
    },
    {
      "cell_type": "markdown",
      "metadata": {
        "id": "q7QvXQMrIhuZ"
      },
      "source": [
        "В этой записной книжке приведен краткий пример того, как запустить Gemini 1.5 Pro с помощью текстового файла. В данном случае вы будете использовать 400-страничную расшифровку из"
      ]
    },
    {
      "cell_type": "code",
      "execution_count": null,
      "metadata": {
        "id": "qLuL9m7KhvxR"
      },
      "outputs": [],
      "source": [
        "!pip install -U -q \"google-generativeai>=0.7.2\""
      ]
    },
    {
      "cell_type": "code",
      "execution_count": null,
      "metadata": {
        "id": "ATIbQM0NHhkj"
      },
      "outputs": [],
      "source": [
        "import google.generativeai as genai"
      ]
    },
    {
      "cell_type": "markdown",
      "metadata": {
        "id": "l8g4hTRotheH"
      },
      "source": [
        "### Настройте свой API-ключ"
      ]
    },
    {
      "cell_type": "code",
      "execution_count": null,
      "metadata": {
        "id": "d6lYXRcjthKV"
      },
      "outputs": [],
      "source": [
        "from google.colab import userdata\n",
        "GOOGLE_API_KEY=userdata.get('GOOGLE_API_KEY')\n",
        "genai.configure(api_key=GOOGLE_API_KEY)"
      ]
    },
    {
      "cell_type": "markdown",
      "metadata": {
        "id": "MNvhBdoDFnTC"
      },
      "source": [
        "Скачайте стенограмму."
      ]
    },
    {
      "cell_type": "code",
      "execution_count": null,
      "metadata": {
        "id": "V4XeFdX1rxaE",
        "outputId": "2c062c16-a5e6-4842-8270-a371329c2103",
        "colab": {
          "base_uri": "https://localhost:8080/"
        }
      },
      "outputs": [
        {
          "output_type": "stream",
          "name": "stdout",
          "text": [
            "--2024-12-03 09:59:33--  https://storage.googleapis.com/generativeai-downloads/data/a11.txt\n",
            "Resolving storage.googleapis.com (storage.googleapis.com)... 173.194.215.207, 173.194.216.207, 173.194.217.207, ...\n",
            "Connecting to storage.googleapis.com (storage.googleapis.com)|173.194.215.207|:443... connected.\n",
            "HTTP request sent, awaiting response... 200 OK\n",
            "Length: 847790 (828K) [text/plain]\n",
            "Saving to: ‘a11.txt’\n",
            "\n",
            "a11.txt             100%[===================>] 827.92K  --.-KB/s    in 0.05s   \n",
            "\n",
            "2024-12-03 09:59:34 (14.7 MB/s) - ‘a11.txt’ saved [847790/847790]\n",
            "\n"
          ]
        }
      ],
      "source": [
        "!wget https://storage.googleapis.com/generativeai-downloads/data/a11.txt"
      ]
    },
    {
      "cell_type": "markdown",
      "metadata": {
        "id": "ZoiKgO2CswzA"
      },
      "source": [
        "Подготовка к использованию."
      ]
    },
    {
      "cell_type": "code",
      "execution_count": null,
      "metadata": {
        "id": "_HzrDdp2Q1Cu",
        "outputId": "f13bcda0-2d30-4947-d1e9-eebef27c9697",
        "colab": {
          "base_uri": "https://localhost:8080/",
          "height": 52
        }
      },
      "outputs": [
        {
          "output_type": "stream",
          "name": "stdout",
          "text": [
            "Uploading file...\n",
            "Completed upload: https://generativelanguage.googleapis.com/v1beta/files/daj49p3gwsvz\n"
          ]
        }
      ],
      "source": [
        "text_file_name = \"a11.txt\"\n",
        "print(f\"Uploading file...\")\n",
        "text_file = genai.upload_file(path=text_file_name)\n",
        "print(f\"Completed upload: {text_file.uri}\")"
      ]
    },
    {
      "cell_type": "markdown",
      "metadata": {
        "id": "EPPOECHzsIGJ"
      },
      "source": [
        "## Сгенерировать контент\n",
        "\n",
        "После того, как файл будет загружен, вы можете отправить запросы \"GenerateContent\", которые ссылаются на URI файлового API. Затем вы попросите модель найти несколько веселых моментов."
      ]
    },
    {
      "cell_type": "code",
      "source": [
        "prompt = \"Найдите три беззаботных момента в этом текстовом файле и переведите их на русский язык.\"\n",
        "\n",
        "model = genai.GenerativeModel(model_name=\"models/gemini-1.5-flash\")\n",
        "\n",
        "response = model.generate_content([prompt, text_file],\n",
        "                                  request_options={\"timeout\": 600})\n",
        "response.text"
      ],
      "metadata": {
        "colab": {
          "base_uri": "https://localhost:8080/",
          "height": 122
        },
        "id": "xS5fmRjyUqfB",
        "outputId": "43aaf433-beda-4c77-9967-90eb2b4d1006"
      },
      "execution_count": null,
      "outputs": [
        {
          "output_type": "execute_result",
          "data": {
            "text/plain": [
              "'Вот три беззаботных момента из стенограммы переговоров миссии Аполлон-11, переведенные на русский язык:\\n\\n1. **00 00 05 35 CDR:** \"You sure sound clear down there, Bruce. Sounds like you\\'re sitting in your living room.\"  —  \"Ты отлично слышишься, Брюс. Словно сидишь у себя в гостиной.\"  (Это шутливое замечание о качестве связи.)\\n\\n2. **00 00 54 13 CMP:** \"And tell Glenn Parker down at the Cape that he lucked out.\" — \"И передай Гленну Паркеру на мысе, что ему повезло.\" (Это лёгкое, дружеское сообщение, подразумевающее, что Паркер избежал каких-то неприятностей.)\\n\\n3. **00 05 20 31 CMP:** \"If we\\'re late in answering you, it\\'s because we\\'re munching sandwiches.\" — \"Если мы медленно отвечаем, это потому что мы жуём сэндвичи.\" (Это непринужденное объяснение задержки в ответах.)\\n'"
            ],
            "application/vnd.google.colaboratory.intrinsic+json": {
              "type": "string"
            }
          },
          "metadata": {},
          "execution_count": 6
        }
      ]
    },
    {
      "cell_type": "markdown",
      "metadata": {
        "id": "IrPDYdQSKTg4"
      },
      "source": [
        "## Удалить файл\n",
        "\n",
        "Файлы автоматически удаляются через 2 дня, или вы можете удалить их вручную, используя \"files.удалить()`."
      ]
    },
    {
      "cell_type": "code",
      "execution_count": null,
      "metadata": {
        "id": "d4eO8ZXoKdZf"
      },
      "outputs": [],
      "source": [
        "genai.delete_file(text_file.name)"
      ]
    }
  ],
  "metadata": {
    "colab": {
      "provenance": [],
      "include_colab_link": true
    },
    "kernelspec": {
      "display_name": "Python 3",
      "name": "python3"
    }
  },
  "nbformat": 4,
  "nbformat_minor": 0
}